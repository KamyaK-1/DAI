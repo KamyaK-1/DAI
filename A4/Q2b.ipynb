{
 "cells": [
  {
   "cell_type": "code",
   "execution_count": 1,
   "metadata": {},
   "outputs": [],
   "source": [
    "import pandas as pd"
   ]
  },
  {
   "cell_type": "code",
   "execution_count": 8,
   "metadata": {},
   "outputs": [],
   "source": [
    "df = pd.read_csv('AirtrafficA4.csv')\n",
    "month_mapping = {'JAN':1, 'FEB':2, 'MAR':3, 'APR':4, 'MAY':5, 'JUNE':6, 'JULY':7, 'AUG':8, 'SEP':9, 'OCT':10, 'NOV':11, 'DEC':12}\n",
    "\n",
    "df['MONTH'] = df['MONTH'].str.strip().map(month_mapping)\n",
    "df['PASSENGERS CARRIED'] = df['PASSENGERS CARRIED'].str.replace(',','',regex=False).fillna('160000').map(int)   \n",
    "df['date'] = pd.to_datetime(df[['YEAR','MONTH']].assign(day=1))\n",
    "\n",
    "df = df.sort_values(by='date')"
   ]
  },
  {
   "cell_type": "code",
   "execution_count": 12,
   "metadata": {},
   "outputs": [],
   "source": [
    "# Generates the prompt we fed to CHATGPT \n",
    "f = open('prompt.txt','w')\n",
    "for i in df['PASSENGERS CARRIED']:\n",
    "    x = str(i)\n",
    "    for j in x:\n",
    "        print(j,end = ' ',file = f)\n",
    "    print(',', end= ' ',file = f)\n",
    "f.close()\n"
   ]
  }
 ],
 "metadata": {
  "kernelspec": {
   "display_name": "base",
   "language": "python",
   "name": "python3"
  },
  "language_info": {
   "codemirror_mode": {
    "name": "ipython",
    "version": 3
   },
   "file_extension": ".py",
   "mimetype": "text/x-python",
   "name": "python",
   "nbconvert_exporter": "python",
   "pygments_lexer": "ipython3",
   "version": "3.11.5"
  }
 },
 "nbformat": 4,
 "nbformat_minor": 2
}
