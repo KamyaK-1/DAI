import numpy as np 
import matplotlib.pyplot as plt
import pandas as pd

from statsmodels.graphics.tsaplots import plot_acf, plot_pacf
from statsmodels.tsa.arima.model import ARIMA
from pmdarima import auto_arima
from sklearn.metrics import mean_squared_error
from sklearn.metrics import mean_absolute_percentage_error
from sklearn.metrics import mean_absolute_error

from statsmodels.tsa.holtwinters import ExponentialSmoothing
from statsmodels.tsa.stattools import adfuller
from datetime import datetime
from statsmodels.tsa.statespace.sarimax import SARIMAX
def mase(y_true, y_pred, y_train):
    """
    Calculate MASE (Mean Absolute Scaled Error).
    y_true: Actual values
    y_pred: Predicted values
    y_train: Training data (used to calculate naive forecast errors)
    """
    # Calculate MAE of the forecast
    mae_forecast = np.mean(np.abs(y_true - y_pred))
    
    # Calculate MAE of the naive forecast (shifted by one time step)
    mae_naive = np.mean(np.abs(y_train[1:] - y_train[:-1]))
    if (mae_naive == 0):
        print("Danger")
    
    # Calculate MASE
    mase_value = mae_forecast / mae_naive
    return mase_value
df = pd.read_csv("parkingLot.csv")
temp_variable = df.groupby("vehicle_no").size().reset_index()
temp_variable = temp_variable[temp_variable[0] == 1]
temp_variable

def differs_by_one_char(str1, str2):
    # If lengths are different, return False as they can't be approximate matches
    if str1 == "":
        print("danger")
    if len(str1) != len(str2):
        return False
    # Count the number of differing characters
    diff_count = sum(1 for a, b in zip(str1, str2) if a != b)
    # Return True if they differ by exactly one character
    return diff_count == 1

def find_unique_strings(strings):
    strings = list(strings)
    unique_strings = []
    for i, string in enumerate(strings):
        if strings.count(string) % 2 == 0:
            continue
        # Flag to check if the string has an approximate match
        has_approximate_match = False
        number = 0
        for j, other_string in enumerate(strings):
            if string == other_string:
                number += 1
            if i != j and differs_by_one_char(string, other_string):
                has_approximate_match = True
                
        # If no approximate match found, add the string to the result
        if not has_approximate_match and number <= 1:
            unique_strings.append(string)
    return unique_strings

# Example usage
strings = temp_variable["vehicle_no"]
print(len(strings))
unique_strings = find_unique_strings(strings)
print("Strings without approximate matches:", unique_strings)

df["timestamp"] = pd.to_datetime(df["timestamp"])
df["date"] = df["timestamp"].dt.date
dates = df.groupby(["date"]).agg(list)
dates_camera = df.groupby(["date","camera_id"]).agg(list)
specific_date = datetime.strptime('2024-10-01', '%Y-%m-%d').date()

result = dates.loc[(specific_date)]["vehicle_no"]
unique_strings = find_unique_strings(result)

start_date='2024-09-12'
end_date = '2024-11-13'
import math
all_dates = pd.date_range(start = start_date, end = end_date)

time_series_of_vehicles_entered = []

for i in all_dates:
    specific_date = i.date()
    result_local = dates.loc[specific_date]["vehicle_no"]
    # print(result_local)
    nan_count = 0
    # result_local = [x for x in result_local if not pd.isna(x) else nan_count += 1]
    result_local_new = []
    for x in result_local:
        if not pd.isna(x):
            result_local_new.append(x)
        else:
            nan_count += 1
    result_local = result_local_new
    unique_strings = find_unique_strings(result_local)
    time_series_of_vehicles_entered.append((len(result_local) + len(unique_strings) + nan_count) / 2)

print(time_series_of_vehicles_entered)
vehicles_entered = pd.Series(time_series_of_vehicles_entered)
vehicles_entered.index = all_dates

model = SARIMAX(vehicles_entered.values[:-7], order=(1, 0, 1), seasonal_order=(1, 0, 1, 7))
results = model.fit()

# Step 3: Summary of the model
print(results.summary())

# Step 4: Forecasting
forecast = results.get_forecast(steps=14)
forecast_index = pd.date_range(start=vehicles_entered.index[-7], periods=14, freq='D')
forecast_values = forecast.predicted_mean
confidence_intervals = forecast.conf_int()

MASE_sarima_stl_entry = mase(vehicles_entered.values[-7:], forecast_values[-14:-7], vehicles_entered.values[:-7])
MSE_sarima_stl_entry = mean_squared_error(vehicles_entered.values[-7:], forecast_values[-14:-7])

# print("------------ Forecasting Vehicles entered on the next 7 days after outlier smoothing using rolling ---------\n\n\n")

print("ARIMA Forecast for next 7 days:\n", forecast_values[-7:], sep="")
print("\nMean absolute scaled error is: ", MASE_sarima_stl_entry)

MAPE_sarima_stl_entry = mean_absolute_percentage_error(vehicles_entered[-7:],forecast_values[-14:-7]) * 100
print("Mean absolute percentage error is: ", MAPE_sarima_stl_entry)

# Step 5: Plot the results
plt.figure(figsize=(10, 6))
plt.plot(vehicles_entered.index, vehicles_entered.values, label='Observed', color='blue')
plt.plot(forecast_index, forecast_values, label='Forecast', color='orange')
# plt.fill_between(forecast_index, confidence_intervals.iloc[:, 0], confidence_intervals.iloc[:, 1], color='gray', alpha=0.3)
plt.title('SARIMA Forecast')
plt.xlabel('Date')
plt.ylabel('Number of Vehicles Entered, using STL')
plt.legend()
plt.show()
